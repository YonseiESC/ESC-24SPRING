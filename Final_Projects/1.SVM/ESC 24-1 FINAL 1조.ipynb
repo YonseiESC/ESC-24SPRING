{
 "cells": [
  {
   "cell_type": "code",
   "execution_count": 1,
   "id": "16d895aa",
   "metadata": {},
   "outputs": [],
   "source": [
    "import numpy as np\n",
    "\n",
    "q4_data = np.load('q4_data/q4_data.npy', allow_pickle=True).item()\n",
    "x_train = q4_data['q4x_train']\n",
    "y_train = q4_data['q4y_train'].flatten()\n",
    "x_test = q4_data['q4x_test']\n",
    "y_test = q4_data['q4y_test'].flatten()"
   ]
  },
  {
   "cell_type": "code",
   "execution_count": 2,
   "id": "456e5b62",
   "metadata": {},
   "outputs": [
    {
     "name": "stdout",
     "output_type": "stream",
     "text": [
      "Number of training data: 76\n",
      "Number of test data    : 24\n",
      "Feature dimension      : 4\n"
     ]
    }
   ],
   "source": [
    "# Hyperparameters\n",
    "lr = 1e-3\n",
    "C = 1\n",
    "num_epochs = 2000\n",
    "\n",
    "print('Number of training data:', x_train.shape[0])\n",
    "print('Number of test data    :', x_test.shape[0])\n",
    "print('Feature dimension      :', x_test.shape[1])"
   ]
  },
  {
   "cell_type": "code",
   "execution_count": 3,
   "id": "a6ffa983",
   "metadata": {},
   "outputs": [],
   "source": [
    "def svm_train_bgd(x, y, C, lr, num_epochs):\n",
    "    N, D = x.shape\n",
    "    w = np.zeros(D)\n",
    "    b = 0\n",
    "    \n",
    "    for i in range(num_epochs):\n",
    "        indicator = 1 - y*(x@w + b)\n",
    "        indicator[indicator < 0] = 0\n",
    "        indicator[indicator > 0] = 1\n",
    "        w_grad = w - C * x.T @ (indicator * y) \n",
    "        b_grad = -C * np.sum(indicator * y)\n",
    "        w = w -  lr * w_grad \n",
    "        b = b -  lr * b_grad      \n",
    "    \n",
    "    return w, b"
   ]
  },
  {
   "cell_type": "code",
   "execution_count": 4,
   "id": "c059c463",
   "metadata": {},
   "outputs": [],
   "source": [
    "def svm_train_sgd(x, y, C, lr, num_epochs):\n",
    "    N, D = x.shape\n",
    "    w = np.zeros(D)\n",
    "    b = 0\n",
    "\n",
    "    for i in range(num_epochs):\n",
    "        for j in range(N):\n",
    "            indicator = 1 - y[j] * (w@x[j] + b)\n",
    "            indicator = 1 if indicator > 0 else 0\n",
    "            w_grad = (1/N) * w - C * indicator * y[j] * x[j]\n",
    "            b_grad = -C * indicator * y[j]\n",
    "            w = w - lr * w_grad  \n",
    "            b = b - lr * b_grad\n",
    "    \n",
    "    return w, b"
   ]
  },
  {
   "cell_type": "code",
   "execution_count": 5,
   "id": "036667af",
   "metadata": {},
   "outputs": [],
   "source": [
    "def svm_predict(x, w, b):\n",
    "\n",
    "    y_pred = np.ones(x.shape[0])    \n",
    "    result = x@w + b\n",
    "    y_pred[result < 0] = -1\n",
    "\n",
    "    return y_pred"
   ]
  },
  {
   "cell_type": "code",
   "execution_count": 6,
   "id": "7d76b295",
   "metadata": {},
   "outputs": [],
   "source": [
    "def evaluate(preds, labels):\n",
    "\n",
    "    return (preds == labels).mean()"
   ]
  },
  {
   "cell_type": "code",
   "execution_count": 7,
   "id": "3c84423d",
   "metadata": {},
   "outputs": [
    {
     "name": "stdout",
     "output_type": "stream",
     "text": [
      "Weights [-0.18558916 -0.33076923  0.85189816  0.70158907]\n",
      "Bias    -0.7170000000000005\n",
      "BGD test accuracy: 95.83%\n"
     ]
    }
   ],
   "source": [
    "# Train SVM with BGD\n",
    "w, b = svm_train_bgd(x_train, y_train, C, lr, num_epochs)\n",
    "print('Weights', w)\n",
    "print('Bias   ', b)\n",
    " \n",
    "# Test accuracy\n",
    "preds_test = svm_predict(x_test, w, b)\n",
    "test_acc = evaluate(preds_test, y_test)\n",
    "print('BGD test accuracy: {:5.2f}%'.format(100.*test_acc))"
   ]
  },
  {
   "cell_type": "code",
   "execution_count": 8,
   "id": "de391660",
   "metadata": {},
   "outputs": [
    {
     "name": "stdout",
     "output_type": "stream",
     "text": [
      "Weights [-0.18895699 -0.34671336  0.84538791  0.76344282]\n",
      "Bias    -0.7350000000000005\n",
      "SGD test accuracy: 95.83%\n"
     ]
    }
   ],
   "source": [
    "# Train SVM with SGD\n",
    "w, b = svm_train_sgd(x_train, y_train, C, lr, num_epochs)\n",
    "print('Weights', w)\n",
    "print('Bias   ', b)\n",
    "\n",
    "# Test accuracy\n",
    "preds_test = svm_predict(x_test, w, b)\n",
    "test_acc = evaluate(preds_test, y_test)\n",
    "print('SGD test accuracy: {:5.2f}%'.format(100.*test_acc))"
   ]
  },
  {
   "cell_type": "code",
   "execution_count": null,
   "id": "e4d9c29f",
   "metadata": {},
   "outputs": [],
   "source": []
  }
 ],
 "metadata": {
  "kernelspec": {
   "display_name": "Python 3 (ipykernel)",
   "language": "python",
   "name": "python3"
  },
  "language_info": {
   "codemirror_mode": {
    "name": "ipython",
    "version": 3
   },
   "file_extension": ".py",
   "mimetype": "text/x-python",
   "name": "python",
   "nbconvert_exporter": "python",
   "pygments_lexer": "ipython3",
   "version": "3.10.9"
  }
 },
 "nbformat": 4,
 "nbformat_minor": 5
}
